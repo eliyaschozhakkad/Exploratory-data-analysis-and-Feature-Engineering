{
 "cells": [
  {
   "cell_type": "code",
   "execution_count": 1,
   "id": "daa4497e-98c7-49e4-9b30-717ade017a37",
   "metadata": {},
   "outputs": [
    {
     "name": "stdout",
     "output_type": "stream",
     "text": [
      "Collecting dtale\n",
      "  Downloading dtale-2.15.2-py2.py3-none-any.whl (14.0 MB)\n",
      "\u001b[2K     \u001b[90m━━━━━━━━━━━━━━━━━━━━━━━━━━━━━━━━━━━━━━━━\u001b[0m \u001b[32m14.0/14.0 MB\u001b[0m \u001b[31m28.1 MB/s\u001b[0m eta \u001b[36m0:00:00\u001b[0m00:01\u001b[0m00:01\u001b[0m\n",
      "\u001b[?25hRequirement already satisfied: seaborn in /opt/conda/lib/python3.10/site-packages (from dtale) (0.12.0)\n",
      "Requirement already satisfied: itsdangerous in /opt/conda/lib/python3.10/site-packages (from dtale) (2.1.2)\n",
      "Collecting dash\n",
      "  Downloading dash-2.9.3-py3-none-any.whl (10.2 MB)\n",
      "\u001b[2K     \u001b[90m━━━━━━━━━━━━━━━━━━━━━━━━━━━━━━━━━━━━━━━━\u001b[0m \u001b[32m10.2/10.2 MB\u001b[0m \u001b[31m77.5 MB/s\u001b[0m eta \u001b[36m0:00:00\u001b[0m00:01\u001b[0m00:01\u001b[0m\n",
      "\u001b[?25hRequirement already satisfied: scikit-learn in /opt/conda/lib/python3.10/site-packages (from dtale) (1.1.2)\n",
      "Collecting dash-daq\n",
      "  Downloading dash_daq-0.5.0.tar.gz (642 kB)\n",
      "\u001b[2K     \u001b[90m━━━━━━━━━━━━━━━━━━━━━━━━━━━━━━━━━━━━━━\u001b[0m \u001b[32m642.7/642.7 kB\u001b[0m \u001b[31m56.0 MB/s\u001b[0m eta \u001b[36m0:00:00\u001b[0m\n",
      "\u001b[?25h  Preparing metadata (setup.py) ... \u001b[?25ldone\n",
      "\u001b[?25hRequirement already satisfied: beautifulsoup4 in /opt/conda/lib/python3.10/site-packages (from dtale) (4.11.1)\n",
      "Collecting squarify\n",
      "  Downloading squarify-0.4.3-py3-none-any.whl (4.3 kB)\n",
      "Collecting dash-colorscales\n",
      "  Downloading dash_colorscales-0.0.4.tar.gz (62 kB)\n",
      "\u001b[2K     \u001b[90m━━━━━━━━━━━━━━━━━━━━━━━━━━━━━━━━━━━━━━━━\u001b[0m \u001b[32m62.3/62.3 kB\u001b[0m \u001b[31m11.3 MB/s\u001b[0m eta \u001b[36m0:00:00\u001b[0m\n",
      "\u001b[?25h  Preparing metadata (setup.py) ... \u001b[?25ldone\n",
      "\u001b[?25hCollecting strsimpy\n",
      "  Downloading strsimpy-0.2.1-py3-none-any.whl (45 kB)\n",
      "\u001b[2K     \u001b[90m━━━━━━━━━━━━━━━━━━━━━━━━━━━━━━━━━━━━━━━━\u001b[0m \u001b[32m45.9/45.9 kB\u001b[0m \u001b[31m8.5 MB/s\u001b[0m eta \u001b[36m0:00:00\u001b[0m\n",
      "\u001b[?25hRequirement already satisfied: xlrd in /opt/conda/lib/python3.10/site-packages (from dtale) (2.0.1)\n",
      "Collecting future>=0.14.0\n",
      "  Downloading future-0.18.3.tar.gz (840 kB)\n",
      "\u001b[2K     \u001b[90m━━━━━━━━━━━━━━━━━━━━━━━━━━━━━━━━━━━━━━\u001b[0m \u001b[32m840.9/840.9 kB\u001b[0m \u001b[31m66.2 MB/s\u001b[0m eta \u001b[36m0:00:00\u001b[0m\n",
      "\u001b[?25h  Preparing metadata (setup.py) ... \u001b[?25ldone\n",
      "\u001b[?25hCollecting flask-ngrok\n",
      "  Downloading flask_ngrok-0.0.25-py3-none-any.whl (3.1 kB)\n",
      "Requirement already satisfied: networkx in /opt/conda/lib/python3.10/site-packages (from dtale) (2.8.7)\n",
      "Requirement already satisfied: matplotlib<=3.6.3 in /opt/conda/lib/python3.10/site-packages (from dtale) (3.6.1)\n",
      "Collecting dash-bootstrap-components<=1.3.1\n",
      "  Downloading dash_bootstrap_components-1.3.1-py3-none-any.whl (219 kB)\n",
      "\u001b[2K     \u001b[90m━━━━━━━━━━━━━━━━━━━━━━━━━━━━━━━━━━━━━━\u001b[0m \u001b[32m219.7/219.7 kB\u001b[0m \u001b[31m32.8 MB/s\u001b[0m eta \u001b[36m0:00:00\u001b[0m\n",
      "\u001b[?25hRequirement already satisfied: lz4 in /opt/conda/lib/python3.10/site-packages (from dtale) (4.0.0)\n",
      "Requirement already satisfied: openpyxl!=3.2.0b1 in /opt/conda/lib/python3.10/site-packages (from dtale) (3.0.10)\n",
      "Collecting kaleido\n",
      "  Downloading kaleido-0.2.1-py2.py3-none-manylinux1_x86_64.whl (79.9 MB)\n",
      "\u001b[2K     \u001b[90m━━━━━━━━━━━━━━━━━━━━━━━━━━━━━━━━━━━━━━━━\u001b[0m \u001b[32m79.9/79.9 MB\u001b[0m \u001b[31m26.0 MB/s\u001b[0m eta \u001b[36m0:00:00\u001b[0m00:01\u001b[0m00:01\u001b[0m\n",
      "\u001b[?25hCollecting xarray\n",
      "  Downloading xarray-2023.4.2-py3-none-any.whl (979 kB)\n",
      "\u001b[2K     \u001b[90m━━━━━━━━━━━━━━━━━━━━━━━━━━━━━━━━━━━━━━\u001b[0m \u001b[32m979.5/979.5 kB\u001b[0m \u001b[31m68.5 MB/s\u001b[0m eta \u001b[36m0:00:00\u001b[0m\n",
      "\u001b[?25hRequirement already satisfied: Flask in /opt/conda/lib/python3.10/site-packages (from dtale) (2.2.5)\n",
      "Collecting plotly\n",
      "  Downloading plotly-5.14.1-py2.py3-none-any.whl (15.3 MB)\n",
      "\u001b[2K     \u001b[90m━━━━━━━━━━━━━━━━━━━━━━━━━━━━━━━━━━━━━━━━\u001b[0m \u001b[32m15.3/15.3 MB\u001b[0m \u001b[31m73.7 MB/s\u001b[0m eta \u001b[36m0:00:00\u001b[0m00:01\u001b[0m00:01\u001b[0m\n",
      "\u001b[?25hRequirement already satisfied: cycler in /opt/conda/lib/python3.10/site-packages (from dtale) (0.11.0)\n",
      "Requirement already satisfied: et-xmlfile in /opt/conda/lib/python3.10/site-packages (from dtale) (1.0.1)\n",
      "Requirement already satisfied: statsmodels in /opt/conda/lib/python3.10/site-packages (from dtale) (0.13.2)\n",
      "Requirement already satisfied: six in /opt/conda/lib/python3.10/site-packages (from dtale) (1.16.0)\n",
      "Collecting Flask-Compress\n",
      "  Downloading Flask_Compress-1.13-py3-none-any.whl (7.9 kB)\n",
      "Requirement already satisfied: scipy<=1.9.3 in /opt/conda/lib/python3.10/site-packages (from dtale) (1.9.3)\n",
      "Requirement already satisfied: certifi in /opt/conda/lib/python3.10/site-packages (from dtale) (2022.9.24)\n",
      "Requirement already satisfied: requests in /opt/conda/lib/python3.10/site-packages (from dtale) (2.28.1)\n",
      "Requirement already satisfied: numpy in /opt/conda/lib/python3.10/site-packages (from dtale) (1.23.4)\n",
      "Requirement already satisfied: pandas in /opt/conda/lib/python3.10/site-packages (from dtale) (1.5.1)\n",
      "Collecting missingno<=0.4.2\n",
      "  Downloading missingno-0.4.2-py3-none-any.whl (9.7 kB)\n",
      "Collecting dash-table==5.0.0\n",
      "  Downloading dash_table-5.0.0-py3-none-any.whl (3.9 kB)\n",
      "Collecting dash-core-components==2.0.0\n",
      "  Downloading dash_core_components-2.0.0-py3-none-any.whl (3.8 kB)\n",
      "Collecting dash-html-components==2.0.0\n",
      "  Downloading dash_html_components-2.0.0-py3-none-any.whl (4.1 kB)\n",
      "Requirement already satisfied: Werkzeug>=2.2.2 in /opt/conda/lib/python3.10/site-packages (from Flask->dtale) (2.3.4)\n",
      "Requirement already satisfied: click>=8.0 in /opt/conda/lib/python3.10/site-packages (from Flask->dtale) (8.1.3)\n",
      "Requirement already satisfied: Jinja2>=3.0 in /opt/conda/lib/python3.10/site-packages (from Flask->dtale) (3.0.3)\n",
      "Requirement already satisfied: kiwisolver>=1.0.1 in /opt/conda/lib/python3.10/site-packages (from matplotlib<=3.6.3->dtale) (1.4.4)\n",
      "Requirement already satisfied: fonttools>=4.22.0 in /opt/conda/lib/python3.10/site-packages (from matplotlib<=3.6.3->dtale) (4.38.0)\n",
      "Requirement already satisfied: python-dateutil>=2.7 in /opt/conda/lib/python3.10/site-packages (from matplotlib<=3.6.3->dtale) (2.8.2)\n",
      "Requirement already satisfied: pillow>=6.2.0 in /opt/conda/lib/python3.10/site-packages (from matplotlib<=3.6.3->dtale) (9.2.0)\n",
      "Requirement already satisfied: pyparsing>=2.2.1 in /opt/conda/lib/python3.10/site-packages (from matplotlib<=3.6.3->dtale) (3.0.9)\n",
      "Requirement already satisfied: contourpy>=1.0.1 in /opt/conda/lib/python3.10/site-packages (from matplotlib<=3.6.3->dtale) (1.0.5)\n",
      "Requirement already satisfied: packaging>=20.0 in /opt/conda/lib/python3.10/site-packages (from matplotlib<=3.6.3->dtale) (21.3)\n",
      "Collecting tenacity>=6.2.0\n",
      "  Downloading tenacity-8.2.2-py3-none-any.whl (24 kB)\n",
      "Requirement already satisfied: soupsieve>1.2 in /opt/conda/lib/python3.10/site-packages (from beautifulsoup4->dtale) (2.3.2.post1)\n",
      "Collecting brotli\n",
      "  Downloading Brotli-1.0.9-cp310-cp310-manylinux_2_5_x86_64.manylinux1_x86_64.manylinux_2_12_x86_64.manylinux2010_x86_64.whl (2.7 MB)\n",
      "\u001b[2K     \u001b[90m━━━━━━━━━━━━━━━━━━━━━━━━━━━━━━━━━━━━━━━━\u001b[0m \u001b[32m2.7/2.7 MB\u001b[0m \u001b[31m73.3 MB/s\u001b[0m eta \u001b[36m0:00:00\u001b[0m:00:01\u001b[0m\n",
      "\u001b[?25hRequirement already satisfied: pytz>=2020.1 in /opt/conda/lib/python3.10/site-packages (from pandas->dtale) (2022.5)\n",
      "Requirement already satisfied: urllib3<1.27,>=1.21.1 in /opt/conda/lib/python3.10/site-packages (from requests->dtale) (1.26.11)\n",
      "Requirement already satisfied: idna<4,>=2.5 in /opt/conda/lib/python3.10/site-packages (from requests->dtale) (3.4)\n",
      "Requirement already satisfied: charset-normalizer<3,>=2 in /opt/conda/lib/python3.10/site-packages (from requests->dtale) (2.1.1)\n",
      "Requirement already satisfied: joblib>=1.0.0 in /opt/conda/lib/python3.10/site-packages (from scikit-learn->dtale) (1.2.0)\n",
      "Requirement already satisfied: threadpoolctl>=2.0.0 in /opt/conda/lib/python3.10/site-packages (from scikit-learn->dtale) (3.1.0)\n",
      "Requirement already satisfied: patsy>=0.5.2 in /opt/conda/lib/python3.10/site-packages (from statsmodels->dtale) (0.5.3)\n",
      "Requirement already satisfied: MarkupSafe>=2.0 in /opt/conda/lib/python3.10/site-packages (from Jinja2>=3.0->Flask->dtale) (2.1.1)\n",
      "Building wheels for collected packages: future, dash-colorscales, dash-daq\n",
      "  Building wheel for future (setup.py) ... \u001b[?25ldone\n",
      "\u001b[?25h  Created wheel for future: filename=future-0.18.3-py3-none-any.whl size=492025 sha256=df5592355f1088f7ecbb3e02f6b760e6714f1d3ede9bf83f0f65cdb2986c660d\n",
      "  Stored in directory: /home/jovyan/.cache/pip/wheels/69/c0/ce/f2a18105d619f21239a048bcc58e98d8ce47ac824e0531f1a0\n",
      "  Building wheel for dash-colorscales (setup.py) ... \u001b[?25ldone\n",
      "\u001b[?25h  Created wheel for dash-colorscales: filename=dash_colorscales-0.0.4-py3-none-any.whl size=62566 sha256=1b2036b0f995cd504d5f2609131696353c338be6ae0c7177c67e2a4655f57f50\n",
      "  Stored in directory: /home/jovyan/.cache/pip/wheels/5c/c9/41/5db0eced077f33779053be8e6e7966fe23e89083fcd723730d\n",
      "  Building wheel for dash-daq (setup.py) ... \u001b[?25ldone\n",
      "\u001b[?25h  Created wheel for dash-daq: filename=dash_daq-0.5.0-py3-none-any.whl size=669692 sha256=a18dbc87f252be30b34a1c05f6f7904b3c57fea612a0876ba21b668fcc0e1e1d\n",
      "  Stored in directory: /home/jovyan/.cache/pip/wheels/95/ae/47/e96608d9aeefe5d2a8c7e1c0f547e9ee49f1eedf13d8bf3f62\n",
      "Successfully built future dash-colorscales dash-daq\n",
      "Installing collected packages: strsimpy, squarify, kaleido, dash-table, dash-html-components, dash-core-components, dash-colorscales, brotli, tenacity, future, plotly, xarray, flask-ngrok, Flask-Compress, dash, missingno, dash-daq, dash-bootstrap-components, dtale\n",
      "Successfully installed Flask-Compress-1.13 brotli-1.0.9 dash-2.9.3 dash-bootstrap-components-1.3.1 dash-colorscales-0.0.4 dash-core-components-2.0.0 dash-daq-0.5.0 dash-html-components-2.0.0 dash-table-5.0.0 dtale-2.15.2 flask-ngrok-0.0.25 future-0.18.3 kaleido-0.2.1 missingno-0.4.2 plotly-5.14.1 squarify-0.4.3 strsimpy-0.2.1 tenacity-8.2.2 xarray-2023.4.2\n",
      "Note: you may need to restart the kernel to use updated packages.\n"
     ]
    }
   ],
   "source": [
    "pip install dtale"
   ]
  },
  {
   "cell_type": "code",
   "execution_count": 15,
   "id": "30698ba7-6820-4bd4-809f-e455f70c0544",
   "metadata": {},
   "outputs": [
    {
     "name": "stdout",
     "output_type": "stream",
     "text": [
      "Collecting package metadata (current_repodata.json): done\n",
      "Solving environment: done\n",
      "\n",
      "\n",
      "==> WARNING: A newer version of conda exists. <==\n",
      "  current version: 22.9.0\n",
      "  latest version: 23.3.1\n",
      "\n",
      "Please update conda by running\n",
      "\n",
      "    $ conda update -n base -c conda-forge conda\n",
      "\n",
      "\n",
      "\n",
      "## Package Plan ##\n",
      "\n",
      "  environment location: /opt/conda\n",
      "\n",
      "  added / updated specs:\n",
      "    - dtale\n",
      "\n",
      "\n",
      "The following packages will be downloaded:\n",
      "\n",
      "    package                    |            build\n",
      "    ---------------------------|-----------------\n",
      "    brotli-python-1.0.9        |  py310hd8f1fbe_8         353 KB  conda-forge\n",
      "    ca-certificates-2023.5.7   |       hbcca054_0         145 KB  conda-forge\n",
      "    certifi-2023.5.7           |     pyhd8ed1ab_0         149 KB  conda-forge\n",
      "    dash-2.9.3                 |     pyhd8ed1ab_1         7.3 MB  conda-forge\n",
      "    dash-bootstrap-components-1.4.1|     pyhd8ed1ab_0         116 KB  conda-forge\n",
      "    dash-core-components-2.0.0 |     pyhd8ed1ab_1           7 KB  conda-forge\n",
      "    dash-daq-0.5.0             |     pyh9f0ad1d_1         545 KB  conda-forge\n",
      "    dash-html-components-2.0.0 |     pyhd8ed1ab_1           8 KB  conda-forge\n",
      "    dash_colorscales-0.0.4     |     pyh9f0ad1d_0          59 KB  conda-forge\n",
      "    dtale-2.15.2               |     pyhd8ed1ab_0         9.7 MB  conda-forge\n",
      "    flask-2.2.3                |     pyhd8ed1ab_0          81 KB  conda-forge\n",
      "    flask-compress-1.13        |     pyhd8ed1ab_0          15 KB  conda-forge\n",
      "    future-0.18.3              |     pyhd8ed1ab_0         357 KB  conda-forge\n",
      "    itsdangerous-2.1.2         |     pyhd8ed1ab_0          16 KB  conda-forge\n",
      "    missingno-0.4.2            |             py_1          12 KB  conda-forge\n",
      "    openssl-1.1.1t             |       h0b41bf4_0         1.9 MB  conda-forge\n",
      "    plotly-5.14.1              |     pyhd8ed1ab_0         4.9 MB  conda-forge\n",
      "    squarify-0.4.3             |             py_0           7 KB  conda-forge\n",
      "    strsimpy-0.1.9             |     pyh9f0ad1d_0          22 KB  conda-forge\n",
      "    tenacity-8.2.2             |     pyhd8ed1ab_0          22 KB  conda-forge\n",
      "    werkzeug-2.3.4             |     pyhd8ed1ab_0         248 KB  conda-forge\n",
      "    xarray-2023.4.2            |     pyhd8ed1ab_0         649 KB  conda-forge\n",
      "    ------------------------------------------------------------\n",
      "                                           Total:        26.5 MB\n",
      "\n",
      "The following NEW packages will be INSTALLED:\n",
      "\n",
      "  brotli-python      conda-forge/linux-64::brotli-python-1.0.9-py310hd8f1fbe_8 None\n",
      "  dash               conda-forge/noarch::dash-2.9.3-pyhd8ed1ab_1 None\n",
      "  dash-bootstrap-co~ conda-forge/noarch::dash-bootstrap-components-1.4.1-pyhd8ed1ab_0 None\n",
      "  dash-core-compone~ conda-forge/noarch::dash-core-components-2.0.0-pyhd8ed1ab_1 None\n",
      "  dash-daq           conda-forge/noarch::dash-daq-0.5.0-pyh9f0ad1d_1 None\n",
      "  dash-html-compone~ conda-forge/noarch::dash-html-components-2.0.0-pyhd8ed1ab_1 None\n",
      "  dash_colorscales   conda-forge/noarch::dash_colorscales-0.0.4-pyh9f0ad1d_0 None\n",
      "  dtale              conda-forge/noarch::dtale-2.15.2-pyhd8ed1ab_0 None\n",
      "  flask              conda-forge/noarch::flask-2.2.3-pyhd8ed1ab_0 None\n",
      "  flask-compress     conda-forge/noarch::flask-compress-1.13-pyhd8ed1ab_0 None\n",
      "  future             conda-forge/noarch::future-0.18.3-pyhd8ed1ab_0 None\n",
      "  itsdangerous       conda-forge/noarch::itsdangerous-2.1.2-pyhd8ed1ab_0 None\n",
      "  missingno          conda-forge/noarch::missingno-0.4.2-py_1 None\n",
      "  plotly             conda-forge/noarch::plotly-5.14.1-pyhd8ed1ab_0 None\n",
      "  squarify           conda-forge/noarch::squarify-0.4.3-py_0 None\n",
      "  strsimpy           conda-forge/noarch::strsimpy-0.1.9-pyh9f0ad1d_0 None\n",
      "  tenacity           conda-forge/noarch::tenacity-8.2.2-pyhd8ed1ab_0 None\n",
      "  werkzeug           conda-forge/noarch::werkzeug-2.3.4-pyhd8ed1ab_0 None\n",
      "  xarray             conda-forge/noarch::xarray-2023.4.2-pyhd8ed1ab_0 None\n",
      "\n",
      "The following packages will be UPDATED:\n",
      "\n",
      "  ca-certificates                      2022.9.24-ha878542_0 --> 2023.5.7-hbcca054_0 None\n",
      "  certifi                            2022.9.24-pyhd8ed1ab_0 --> 2023.5.7-pyhd8ed1ab_0 None\n",
      "  openssl                                 1.1.1q-h166bdaf_1 --> 1.1.1t-h0b41bf4_0 None\n",
      "\n",
      "\n",
      "\n",
      "Downloading and Extracting Packages\n",
      "dash-html-components | 8 KB      | ##################################### | 100% \n",
      "dash_colorscales-0.0 | 59 KB     | ##################################### | 100% \n",
      "dash-bootstrap-compo | 116 KB    | ##################################### | 100% \n",
      "future-0.18.3        | 357 KB    | ##################################### | 100% \n",
      "brotli-python-1.0.9  | 353 KB    | ##################################### | 100% \n",
      "dtale-2.15.2         | 9.7 MB    | ##################################### | 100% \n",
      "certifi-2023.5.7     | 149 KB    | ##################################### | 100% \n",
      "werkzeug-2.3.4       | 248 KB    | ##################################### | 100% \n",
      "itsdangerous-2.1.2   | 16 KB     | ##################################### | 100% \n",
      "ca-certificates-2023 | 145 KB    | ##################################### | 100% \n",
      "xarray-2023.4.2      | 649 KB    | ##################################### | 100% \n",
      "tenacity-8.2.2       | 22 KB     | ##################################### | 100% \n",
      "strsimpy-0.1.9       | 22 KB     | ##################################### | 100% \n",
      "dash-2.9.3           | 7.3 MB    | ##################################### | 100% \n",
      "missingno-0.4.2      | 12 KB     | ##################################### | 100% \n",
      "openssl-1.1.1t       | 1.9 MB    | ##################################### | 100% \n",
      "flask-2.2.3          | 81 KB     | ##################################### | 100% \n",
      "plotly-5.14.1        | 4.9 MB    | ##################################### | 100% \n",
      "dash-daq-0.5.0       | 545 KB    | ##################################### | 100% \n",
      "flask-compress-1.13  | 15 KB     | ##################################### | 100% \n",
      "dash-core-components | 7 KB      | ##################################### | 100% \n",
      "squarify-0.4.3       | 7 KB      | ##################################### | 100% \n",
      "Preparing transaction: done\n",
      "Verifying transaction: done\n",
      "Executing transaction: done\n",
      "Retrieving notices: ...working... done\n",
      "\n",
      "Note: you may need to restart the kernel to use updated packages.\n"
     ]
    }
   ],
   "source": [
    "conda install dtale -c conda-forge"
   ]
  },
  {
   "cell_type": "code",
   "execution_count": 16,
   "id": "2d3326f9-aa05-448a-a56a-9952ddf61050",
   "metadata": {},
   "outputs": [],
   "source": [
    "import dtale\n",
    "import pandas as pd"
   ]
  },
  {
   "cell_type": "code",
   "execution_count": 5,
   "id": "9950da8e-c3f1-4ef8-b291-52b92d37511f",
   "metadata": {},
   "outputs": [],
   "source": [
    "df = pd.read_csv(\"cleaned_playstore.csv\")"
   ]
  },
  {
   "cell_type": "code",
   "execution_count": 8,
   "id": "5b529474-1b87-4cd6-aa31-8c0206e1ca78",
   "metadata": {},
   "outputs": [
    {
     "name": "stderr",
     "output_type": "stream",
     "text": [
      "/opt/conda/lib/python3.10/site-packages/dtale/views.py:756: FutureWarning:\n",
      "\n",
      "['Type', 'Current Ver', 'Android Ver'] did not aggregate successfully. If any error is raised this will raise in a future version of pandas. Drop these columns/ops to avoid this warning.\n",
      "\n"
     ]
    }
   ],
   "source": [
    "d = dtale.show(df)"
   ]
  },
  {
   "cell_type": "code",
   "execution_count": 9,
   "id": "c71d02ab-b00c-45b3-8e90-49e10adb82eb",
   "metadata": {},
   "outputs": [],
   "source": [
    "tmp = d.data.copy()\n",
    "tmp['d'] = 4"
   ]
  },
  {
   "cell_type": "code",
   "execution_count": 10,
   "id": "0d67c473-8bd5-47ae-8154-697ab599a5a9",
   "metadata": {},
   "outputs": [
    {
     "name": "stderr",
     "output_type": "stream",
     "text": [
      "/opt/conda/lib/python3.10/site-packages/dtale/views.py:756: FutureWarning:\n",
      "\n",
      "['Type', 'Current Ver', 'Android Ver'] did not aggregate successfully. If any error is raised this will raise in a future version of pandas. Drop these columns/ops to avoid this warning.\n",
      "\n"
     ]
    }
   ],
   "source": [
    "d.data = tmp"
   ]
  },
  {
   "cell_type": "code",
   "execution_count": 11,
   "id": "4b886620-a6b0-4d7f-b249-d04cbacbf976",
   "metadata": {},
   "outputs": [
    {
     "name": "stderr",
     "output_type": "stream",
     "text": [
      "2023-05-16 04:41:42,190 - INFO     - Executing shutdown...\n",
      "2023-05-16 04:41:42,192 - ERROR    - Exception on /shutdown [GET]\n",
      "Traceback (most recent call last):\n",
      "  File \"/opt/conda/lib/python3.10/site-packages/flask/app.py\", line 2529, in wsgi_app\n",
      "    response = self.full_dispatch_request()\n",
      "  File \"/opt/conda/lib/python3.10/site-packages/flask/app.py\", line 1825, in full_dispatch_request\n",
      "    rv = self.handle_user_exception(e)\n",
      "  File \"/opt/conda/lib/python3.10/site-packages/flask/app.py\", line 1823, in full_dispatch_request\n",
      "    rv = self.dispatch_request()\n",
      "  File \"/opt/conda/lib/python3.10/site-packages/flask/app.py\", line 1799, in dispatch_request\n",
      "    return self.ensure_sync(self.view_functions[rule.endpoint])(**view_args)\n",
      "  File \"/opt/conda/lib/python3.10/site-packages/dtale/app.py\", line 438, in shutdown\n",
      "    shutdown_server()\n",
      "  File \"/opt/conda/lib/python3.10/site-packages/dtale/app.py\", line 424, in shutdown_server\n",
      "    raise RuntimeError(\"Not running with the Werkzeug Server\")\n",
      "RuntimeError: Not running with the Werkzeug Server\n"
     ]
    }
   ],
   "source": [
    "d.kill()"
   ]
  },
  {
   "cell_type": "code",
   "execution_count": 12,
   "id": "12f18412-b0e8-4c0d-b3f2-5a4fa571ccfb",
   "metadata": {},
   "outputs": [],
   "source": [
    "d.open_browser()"
   ]
  },
  {
   "cell_type": "code",
   "execution_count": 14,
   "id": "ba4010d6-4eb8-4517-8fce-3bab455361f1",
   "metadata": {},
   "outputs": [
    {
     "name": "stdout",
     "output_type": "stream",
     "text": [
      "To gain access to an instance object simply pass the value from 'ID' to dtale.get_instance(ID)\n",
      "\n",
      "ID Name                                    URL\n",
      " 1      http://14b318c4dbb9:40000/dtale/main/1\n",
      "        http://14b318c4dbb9:40000/dtale/main/1\n",
      " 2      http://14b318c4dbb9:40000/dtale/main/2\n",
      "        http://14b318c4dbb9:40000/dtale/main/2\n",
      " 3      http://14b318c4dbb9:40000/dtale/main/3\n",
      "        http://14b318c4dbb9:40000/dtale/main/3\n"
     ]
    }
   ],
   "source": [
    "# There is also some helpful metadata about the process\n",
    "d._data_id  # the process's data identifier\n",
    "d._url  # the url to access the process\n",
    "\n",
    "d2 = dtale.get_instance(d._data_id)  # returns a new reference to the instance running at that data_id\n",
    "\n",
    "dtale.instances()  # prints a list of all ids & urls of running D-Tale sessions"
   ]
  },
  {
   "cell_type": "code",
   "execution_count": null,
   "id": "fb788933-3516-439a-b83d-92cddeaa3da4",
   "metadata": {},
   "outputs": [],
   "source": []
  }
 ],
 "metadata": {
  "kernelspec": {
   "display_name": "Python 3 (ipykernel)",
   "language": "python",
   "name": "python3"
  },
  "language_info": {
   "codemirror_mode": {
    "name": "ipython",
    "version": 3
   },
   "file_extension": ".py",
   "mimetype": "text/x-python",
   "name": "python",
   "nbconvert_exporter": "python",
   "pygments_lexer": "ipython3",
   "version": "3.10.6"
  }
 },
 "nbformat": 4,
 "nbformat_minor": 5
}
